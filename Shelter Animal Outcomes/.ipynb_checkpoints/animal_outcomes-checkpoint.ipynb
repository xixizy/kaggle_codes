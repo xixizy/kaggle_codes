{
 "cells": [
  {
   "cell_type": "code",
   "execution_count": 3,
   "metadata": {
    "collapsed": true
   },
   "outputs": [],
   "source": [
    "import pandas as pd\n",
    "import sklearn\n",
    "import matplotlib\n",
    "import matplotlib.pyplot as plt\n",
    "import numpy as np\n",
    "import math\n",
    "import gzip, csv\n",
    "\n",
    "matplotlib.style.use('ggplot')\n",
    "\n",
    "%matplotlib inline"
   ]
  },
  {
   "cell_type": "code",
   "execution_count": 4,
   "metadata": {
    "collapsed": false
   },
   "outputs": [
    {
     "data": {
      "text/html": [
       "<div>\n",
       "<table border=\"1\" class=\"dataframe\">\n",
       "  <thead>\n",
       "    <tr style=\"text-align: right;\">\n",
       "      <th></th>\n",
       "      <th>AnimalID</th>\n",
       "      <th>Name</th>\n",
       "      <th>DateTime</th>\n",
       "      <th>OutcomeType</th>\n",
       "      <th>OutcomeSubtype</th>\n",
       "      <th>AnimalType</th>\n",
       "      <th>SexuponOutcome</th>\n",
       "      <th>AgeuponOutcome</th>\n",
       "      <th>Breed</th>\n",
       "      <th>Color</th>\n",
       "    </tr>\n",
       "  </thead>\n",
       "  <tbody>\n",
       "    <tr>\n",
       "      <th>0</th>\n",
       "      <td>A671945</td>\n",
       "      <td>Hambone</td>\n",
       "      <td>2014-02-12 18:22:00</td>\n",
       "      <td>Return_to_owner</td>\n",
       "      <td>NaN</td>\n",
       "      <td>Dog</td>\n",
       "      <td>Neutered Male</td>\n",
       "      <td>1 year</td>\n",
       "      <td>Shetland Sheepdog Mix</td>\n",
       "      <td>Brown/White</td>\n",
       "    </tr>\n",
       "    <tr>\n",
       "      <th>1</th>\n",
       "      <td>A656520</td>\n",
       "      <td>Emily</td>\n",
       "      <td>2013-10-13 12:44:00</td>\n",
       "      <td>Euthanasia</td>\n",
       "      <td>Suffering</td>\n",
       "      <td>Cat</td>\n",
       "      <td>Spayed Female</td>\n",
       "      <td>1 year</td>\n",
       "      <td>Domestic Shorthair Mix</td>\n",
       "      <td>Cream Tabby</td>\n",
       "    </tr>\n",
       "  </tbody>\n",
       "</table>\n",
       "</div>"
      ],
      "text/plain": [
       "  AnimalID     Name             DateTime      OutcomeType OutcomeSubtype  \\\n",
       "0  A671945  Hambone  2014-02-12 18:22:00  Return_to_owner            NaN   \n",
       "1  A656520    Emily  2013-10-13 12:44:00       Euthanasia      Suffering   \n",
       "\n",
       "  AnimalType SexuponOutcome AgeuponOutcome                   Breed  \\\n",
       "0        Dog  Neutered Male         1 year   Shetland Sheepdog Mix   \n",
       "1        Cat  Spayed Female         1 year  Domestic Shorthair Mix   \n",
       "\n",
       "         Color  \n",
       "0  Brown/White  \n",
       "1  Cream Tabby  "
      ]
     },
     "execution_count": 4,
     "metadata": {},
     "output_type": "execute_result"
    }
   ],
   "source": [
    "train_sets = pd.read_csv(\"./train.csv\")\n",
    "train_sets.head(2)"
   ]
  },
  {
   "cell_type": "code",
   "execution_count": 95,
   "metadata": {
    "collapsed": false
   },
   "outputs": [
    {
     "data": {
      "text/plain": [
       "Breed\n",
       "Abyssinian Mix                                       2\n",
       "Affenpinscher Mix                                    6\n",
       "Afghan Hound Mix                                     1\n",
       "Airedale Terrier                                     1\n",
       "Airedale Terrier Mix                                 5\n",
       "Airedale Terrier/Labrador Retriever                  1\n",
       "Airedale Terrier/Miniature Schnauzer                 1\n",
       "Akita                                                3\n",
       "Akita Mix                                           11\n",
       "Akita/Australian Cattle Dog                          1\n",
       "Akita/Chow Chow                                      1\n",
       "Akita/German Shepherd                                1\n",
       "Akita/Labrador Retriever                             1\n",
       "Akita/Pit Bull                                       1\n",
       "Akita/Siberian Husky                                 2\n",
       "Alaskan Husky                                        2\n",
       "Alaskan Husky Mix                                   10\n",
       "Alaskan Husky/Australian Shepherd                    2\n",
       "Alaskan Husky/Border Collie                          1\n",
       "Alaskan Husky/German Shepherd                        1\n",
       "Alaskan Malamute                                     1\n",
       "Alaskan Malamute Mix                                 5\n",
       "Alaskan Malamute/Akita                               1\n",
       "Alaskan Malamute/Australian Kelpie                   1\n",
       "Alaskan Malamute/Border Collie                       2\n",
       "Alaskan Malamute/German Shepherd                     1\n",
       "American Bulldog                                     6\n",
       "American Bulldog Mix                               109\n",
       "American Bulldog/American Staffordshire Terrier      1\n",
       "American Bulldog/Chinese Sharpei                     1\n",
       "                                                  ... \n",
       "Whippet/Borzoi                                       1\n",
       "Whippet/Chihuahua Shorthair                          1\n",
       "Whippet/Dachshund                                    2\n",
       "Whippet/Jack Russell Terrier                         1\n",
       "Whippet/Labrador Retriever                           2\n",
       "Whippet/Miniature Pinscher                           1\n",
       "Whippet/Shetland Sheepdog                            1\n",
       "Whippet/Whippet                                      1\n",
       "Wire Hair Fox Terrier                                2\n",
       "Wire Hair Fox Terrier Mix                           12\n",
       "Wire Hair Fox Terrier/Beagle                         2\n",
       "Wire Hair Fox Terrier/Chihuahua Shorthair            4\n",
       "Wire Hair Fox Terrier/German Shepherd                1\n",
       "Wirehaired Pointing Griffon Mix                      2\n",
       "Yorkshire Terrier                                   24\n",
       "Yorkshire Terrier Mix                              143\n",
       "Yorkshire Terrier/Border Terrier                     3\n",
       "Yorkshire Terrier/Bruss Griffon                      1\n",
       "Yorkshire Terrier/Cairn Terrier                      6\n",
       "Yorkshire Terrier/Chihuahua Longhair                 7\n",
       "Yorkshire Terrier/Chihuahua Shorthair                9\n",
       "Yorkshire Terrier/Dachshund Wirehair                 1\n",
       "Yorkshire Terrier/Maltese                            4\n",
       "Yorkshire Terrier/Miniature Poodle                  12\n",
       "Yorkshire Terrier/Miniature Schnauzer                8\n",
       "Yorkshire Terrier/Norfolk Terrier                    1\n",
       "Yorkshire Terrier/Parson Russell Terrier             1\n",
       "Yorkshire Terrier/Pomeranian                         1\n",
       "Yorkshire Terrier/Rat Terrier                        4\n",
       "Yorkshire Terrier/Toy Poodle                         1\n",
       "dtype: int64"
      ]
     },
     "execution_count": 95,
     "metadata": {},
     "output_type": "execute_result"
    }
   ],
   "source": [
    "train_sets.groupby(\"Breed\").size()"
   ]
  },
  {
   "cell_type": "code",
   "execution_count": 58,
   "metadata": {
    "collapsed": false,
    "scrolled": true
   },
   "outputs": [
    {
     "data": {
      "text/html": [
       "<div>\n",
       "<table border=\"1\" class=\"dataframe\">\n",
       "  <thead>\n",
       "    <tr style=\"text-align: right;\">\n",
       "      <th></th>\n",
       "      <th>ID</th>\n",
       "      <th>Name</th>\n",
       "      <th>DateTime</th>\n",
       "      <th>AnimalType</th>\n",
       "      <th>SexuponOutcome</th>\n",
       "      <th>AgeuponOutcome</th>\n",
       "      <th>Breed</th>\n",
       "      <th>Color</th>\n",
       "    </tr>\n",
       "  </thead>\n",
       "  <tbody>\n",
       "    <tr>\n",
       "      <th>0</th>\n",
       "      <td>1</td>\n",
       "      <td>Summer</td>\n",
       "      <td>2015-10-12 12:15:00</td>\n",
       "      <td>Dog</td>\n",
       "      <td>Intact Female</td>\n",
       "      <td>10 months</td>\n",
       "      <td>Labrador Retriever Mix</td>\n",
       "      <td>Red/White</td>\n",
       "    </tr>\n",
       "    <tr>\n",
       "      <th>1</th>\n",
       "      <td>2</td>\n",
       "      <td>Cheyenne</td>\n",
       "      <td>2014-07-26 17:59:00</td>\n",
       "      <td>Dog</td>\n",
       "      <td>Spayed Female</td>\n",
       "      <td>2 years</td>\n",
       "      <td>German Shepherd/Siberian Husky</td>\n",
       "      <td>Black/Tan</td>\n",
       "    </tr>\n",
       "  </tbody>\n",
       "</table>\n",
       "</div>"
      ],
      "text/plain": [
       "   ID      Name             DateTime AnimalType SexuponOutcome AgeuponOutcome  \\\n",
       "0   1    Summer  2015-10-12 12:15:00        Dog  Intact Female      10 months   \n",
       "1   2  Cheyenne  2014-07-26 17:59:00        Dog  Spayed Female        2 years   \n",
       "\n",
       "                            Breed      Color  \n",
       "0          Labrador Retriever Mix  Red/White  \n",
       "1  German Shepherd/Siberian Husky  Black/Tan  "
      ]
     },
     "execution_count": 58,
     "metadata": {},
     "output_type": "execute_result"
    }
   ],
   "source": [
    "test_sets = pd.read_csv(\"./test.csv\")\n",
    "test_sets.head(2)"
   ]
  },
  {
   "cell_type": "code",
   "execution_count": 15,
   "metadata": {
    "collapsed": true
   },
   "outputs": [],
   "source": [
    "def logloss(act, pred, score):\n",
    "    res = 0\n",
    "    sample_size = len(act)\n",
    "    for i in xrange(sample_size):\n",
    "        res += math.log(max(score[i])) if act[i] == pred[i] else 0\n",
    "    return - res / sample_size"
   ]
  },
  {
   "cell_type": "code",
   "execution_count": 93,
   "metadata": {
    "collapsed": false
   },
   "outputs": [
    {
     "name": "stdout",
     "output_type": "stream",
     "text": [
      "(26729, 108)\n"
     ]
    }
   ],
   "source": [
    "from sklearn.preprocessing import OneHotEncoder\n",
    "\n",
    "Y_train = train_sets.OutcomeType.values\n",
    "\n",
    "def get_id_map(data_sets, name):\n",
    "    ids = list(set(data_sets[name]))\n",
    "    return dict([ x for x in zip(ids, xrange(len(ids))) ])\n",
    "    \n",
    "animal_map = get_id_map(train_sets, \"AnimalType\")\n",
    "sexupon_map = get_id_map(train_sets, \"SexuponOutcome\")\n",
    "age_map = get_id_map(train_sets, \"AgeuponOutcome\")\n",
    "\n",
    "color_map = list(set([ x.split('/')[-1] for x in train_sets.Color]))\n",
    "color_map = dict([ x for x in zip(color_map, xrange(len(color_map)))])\n",
    "\n",
    "X_train_raw = [[animal_map[x[0]], sexupon_map[x[1]], age_map[x[2]], color_map[x[3].split('/')[-1]] ]\n",
    "                for x in zip(train_sets.AnimalType, train_sets.SexuponOutcome, \n",
    "                             train_sets.AgeuponOutcome, train_sets.Color)]\n",
    "\n",
    "enc = OneHotEncoder()\n",
    "enc.fit(X_train_raw)\n",
    "\n",
    "X_train = enc.transform(X_train_raw)\n",
    "print X_train.shape"
   ]
  },
  {
   "cell_type": "code",
   "execution_count": 94,
   "metadata": {
    "collapsed": false
   },
   "outputs": [
    {
     "data": {
      "text/plain": [
       "0.259757423986945"
      ]
     },
     "execution_count": 94,
     "metadata": {},
     "output_type": "execute_result"
    }
   ],
   "source": [
    "from sklearn import linear_model\n",
    "\n",
    "logreg = linear_model.LogisticRegression(C=1e5, solver=\"lbfgs\", multi_class=\"multinomial\")\n",
    "logreg.fit(X_train, Y_train)\n",
    "logloss(Y_train, logreg.predict(X_train), logreg.predict_proba(X_train))"
   ]
  },
  {
   "cell_type": "code",
   "execution_count": 62,
   "metadata": {
    "collapsed": false
   },
   "outputs": [],
   "source": [
    "X_test_raw = [[animal_map[x[0]], sexupon_map[x[1]], age_map.get(x[2], age_map[\"20 years\"])] \n",
    "                for x in zip(test_sets.AnimalType, test_sets.SexuponOutcome, test_sets.AgeuponOutcome)]\n",
    "\n",
    "predicted = np.array(logreg.predict_proba(enc.transform(X_test_raw)))\n",
    "labels = ['Id']\n",
    "for i in logreg.classes_:\n",
    "    labels.append(i)\n",
    "with gzip.open('./animal.csv.gz', 'wt') as outf:\n",
    "    fo = csv.writer(outf, lineterminator='\\n')\n",
    "    fo.writerow(labels)\n",
    "\n",
    "    for i, pred in enumerate(predicted):\n",
    "        fo.writerow([i + 1] + list(pred))"
   ]
  }
 ],
 "metadata": {
  "kernelspec": {
   "display_name": "Python 2",
   "language": "python",
   "name": "python2"
  },
  "language_info": {
   "codemirror_mode": {
    "name": "ipython",
    "version": 2
   },
   "file_extension": ".py",
   "mimetype": "text/x-python",
   "name": "python",
   "nbconvert_exporter": "python",
   "pygments_lexer": "ipython2",
   "version": "2.7.10"
  }
 },
 "nbformat": 4,
 "nbformat_minor": 0
}
