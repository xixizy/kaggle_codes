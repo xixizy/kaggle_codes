{
 "cells": [
  {
   "cell_type": "code",
   "execution_count": 2,
   "metadata": {
    "collapsed": true
   },
   "outputs": [],
   "source": [
    "import pandas as pd\n",
    "import sklearn\n",
    "import matplotlib\n",
    "import matplotlib.pyplot as plt\n",
    "import numpy as np\n",
    "import math\n",
    "import gzip, csv\n",
    "\n",
    "matplotlib.style.use('ggplot')\n",
    "\n",
    "%matplotlib inline"
   ]
  },
  {
   "cell_type": "code",
   "execution_count": 3,
   "metadata": {
    "collapsed": false
   },
   "outputs": [
    {
     "data": {
      "text/html": [
       "<div>\n",
       "<table border=\"1\" class=\"dataframe\">\n",
       "  <thead>\n",
       "    <tr style=\"text-align: right;\">\n",
       "      <th></th>\n",
       "      <th>AnimalID</th>\n",
       "      <th>Name</th>\n",
       "      <th>DateTime</th>\n",
       "      <th>OutcomeType</th>\n",
       "      <th>OutcomeSubtype</th>\n",
       "      <th>AnimalType</th>\n",
       "      <th>SexuponOutcome</th>\n",
       "      <th>AgeuponOutcome</th>\n",
       "      <th>Breed</th>\n",
       "      <th>Color</th>\n",
       "    </tr>\n",
       "  </thead>\n",
       "  <tbody>\n",
       "    <tr>\n",
       "      <th>0</th>\n",
       "      <td>A671945</td>\n",
       "      <td>Hambone</td>\n",
       "      <td>2014-02-12 18:22:00</td>\n",
       "      <td>Return_to_owner</td>\n",
       "      <td>NaN</td>\n",
       "      <td>Dog</td>\n",
       "      <td>Neutered Male</td>\n",
       "      <td>1 year</td>\n",
       "      <td>Shetland Sheepdog Mix</td>\n",
       "      <td>Brown/White</td>\n",
       "    </tr>\n",
       "    <tr>\n",
       "      <th>1</th>\n",
       "      <td>A656520</td>\n",
       "      <td>Emily</td>\n",
       "      <td>2013-10-13 12:44:00</td>\n",
       "      <td>Euthanasia</td>\n",
       "      <td>Suffering</td>\n",
       "      <td>Cat</td>\n",
       "      <td>Spayed Female</td>\n",
       "      <td>1 year</td>\n",
       "      <td>Domestic Shorthair Mix</td>\n",
       "      <td>Cream Tabby</td>\n",
       "    </tr>\n",
       "  </tbody>\n",
       "</table>\n",
       "</div>"
      ],
      "text/plain": [
       "  AnimalID     Name             DateTime      OutcomeType OutcomeSubtype  \\\n",
       "0  A671945  Hambone  2014-02-12 18:22:00  Return_to_owner            NaN   \n",
       "1  A656520    Emily  2013-10-13 12:44:00       Euthanasia      Suffering   \n",
       "\n",
       "  AnimalType SexuponOutcome AgeuponOutcome                   Breed  \\\n",
       "0        Dog  Neutered Male         1 year   Shetland Sheepdog Mix   \n",
       "1        Cat  Spayed Female         1 year  Domestic Shorthair Mix   \n",
       "\n",
       "         Color  \n",
       "0  Brown/White  \n",
       "1  Cream Tabby  "
      ]
     },
     "execution_count": 3,
     "metadata": {},
     "output_type": "execute_result"
    }
   ],
   "source": [
    "train_sets = pd.read_csv(\"./train.csv\")\n",
    "train_sets.head(2)"
   ]
  },
  {
   "cell_type": "code",
   "execution_count": 30,
   "metadata": {
    "collapsed": false
   },
   "outputs": [
    {
     "data": {
      "text/plain": [
       "['White/Gray Tiger']"
      ]
     },
     "execution_count": 30,
     "metadata": {},
     "output_type": "execute_result"
    }
   ],
   "source": [
    "[x for x in test_sets.Color if x.find(\"Gray Tiger\") >= 0]"
   ]
  },
  {
   "cell_type": "code",
   "execution_count": 4,
   "metadata": {
    "collapsed": false,
    "scrolled": true
   },
   "outputs": [
    {
     "data": {
      "text/html": [
       "<div>\n",
       "<table border=\"1\" class=\"dataframe\">\n",
       "  <thead>\n",
       "    <tr style=\"text-align: right;\">\n",
       "      <th></th>\n",
       "      <th>ID</th>\n",
       "      <th>Name</th>\n",
       "      <th>DateTime</th>\n",
       "      <th>AnimalType</th>\n",
       "      <th>SexuponOutcome</th>\n",
       "      <th>AgeuponOutcome</th>\n",
       "      <th>Breed</th>\n",
       "      <th>Color</th>\n",
       "    </tr>\n",
       "  </thead>\n",
       "  <tbody>\n",
       "    <tr>\n",
       "      <th>0</th>\n",
       "      <td>1</td>\n",
       "      <td>Summer</td>\n",
       "      <td>2015-10-12 12:15:00</td>\n",
       "      <td>Dog</td>\n",
       "      <td>Intact Female</td>\n",
       "      <td>10 months</td>\n",
       "      <td>Labrador Retriever Mix</td>\n",
       "      <td>Red/White</td>\n",
       "    </tr>\n",
       "    <tr>\n",
       "      <th>1</th>\n",
       "      <td>2</td>\n",
       "      <td>Cheyenne</td>\n",
       "      <td>2014-07-26 17:59:00</td>\n",
       "      <td>Dog</td>\n",
       "      <td>Spayed Female</td>\n",
       "      <td>2 years</td>\n",
       "      <td>German Shepherd/Siberian Husky</td>\n",
       "      <td>Black/Tan</td>\n",
       "    </tr>\n",
       "  </tbody>\n",
       "</table>\n",
       "</div>"
      ],
      "text/plain": [
       "   ID      Name             DateTime AnimalType SexuponOutcome AgeuponOutcome  \\\n",
       "0   1    Summer  2015-10-12 12:15:00        Dog  Intact Female      10 months   \n",
       "1   2  Cheyenne  2014-07-26 17:59:00        Dog  Spayed Female        2 years   \n",
       "\n",
       "                            Breed      Color  \n",
       "0          Labrador Retriever Mix  Red/White  \n",
       "1  German Shepherd/Siberian Husky  Black/Tan  "
      ]
     },
     "execution_count": 4,
     "metadata": {},
     "output_type": "execute_result"
    }
   ],
   "source": [
    "test_sets = pd.read_csv(\"./test.csv\")\n",
    "test_sets.head(2)"
   ]
  },
  {
   "cell_type": "code",
   "execution_count": 5,
   "metadata": {
    "collapsed": true
   },
   "outputs": [],
   "source": [
    "def logloss(act, pred, score):\n",
    "    res = 0\n",
    "    sample_size = len(act)\n",
    "    for i in xrange(sample_size):\n",
    "        res += math.log(max(score[i])) if act[i] == pred[i] else 0\n",
    "    return - res / sample_size"
   ]
  },
  {
   "cell_type": "code",
   "execution_count": 67,
   "metadata": {
    "collapsed": false
   },
   "outputs": [
    {
     "name": "stdout",
     "output_type": "stream",
     "text": [
      "(26729, 333)\n"
     ]
    }
   ],
   "source": [
    "from sklearn.preprocessing import OneHotEncoder\n",
    "\n",
    "Y_train = train_sets.OutcomeType.values\n",
    "\n",
    "def get_id_map(data_sets, name):\n",
    "    ids = list(set(data_sets[name]))\n",
    "    return dict([ x for x in zip(ids, xrange(len(ids))) ])\n",
    "    \n",
    "animal_map = get_id_map(train_sets, \"AnimalType\")\n",
    "sexupon_map = get_id_map(train_sets, \"SexuponOutcome\")\n",
    "age_map = get_id_map(train_sets, \"AgeuponOutcome\")\n",
    "\n",
    "color_map = list(set([ x.split('/')[0] for x in train_sets.Color]))\n",
    "color_map = dict([ x for x in zip(color_map, xrange(len(color_map)))])\n",
    "\n",
    "def is_pure(breed):\n",
    "    return 1 if (breed.find(\"Mix\") >= 0 or breed.find(\"/\") >= 0) else 0\n",
    "\n",
    "def get_breed(breed):\n",
    "    pos = breed.find(\"Mix\")\n",
    "    if pos >= 0:\n",
    "        return breed[0:pos-1]\n",
    "    pos = breed.find(\"/\")\n",
    "    if pos >= 0:\n",
    "        return breed[0:pos]\n",
    "    return breed\n",
    "\n",
    "breed_map = list(set(map(get_breed, train_sets.Breed)))\n",
    "breed_map = dict([ x for x in zip(breed_map, xrange(len(breed_map)))])\n",
    "\n",
    "X_train_raw = [[animal_map[x[0]], sexupon_map[x[1]], age_map[x[2]], \n",
    "                color_map[x[3].split('/')[0]], is_pure(x[4]), breed_map[get_breed(x[4])] ]\n",
    "                for x in zip(train_sets.AnimalType, train_sets.SexuponOutcome, \n",
    "                             train_sets.AgeuponOutcome, train_sets.Color, train_sets.Breed)]\n",
    "\n",
    "enc = OneHotEncoder()\n",
    "enc.fit(X_train_raw)\n",
    "\n",
    "X_train = enc.transform(X_train_raw)\n",
    "print X_train.shape"
   ]
  },
  {
   "cell_type": "code",
   "execution_count": 72,
   "metadata": {
    "collapsed": false
   },
   "outputs": [
    {
     "name": "stdout",
     "output_type": "stream",
     "text": [
      "0.250019109359\n"
     ]
    }
   ],
   "source": [
    "from sklearn import linear_model\n",
    "from sklearn.cross_validation import train_test_split\n",
    "\n",
    "if False:\n",
    "    X_train, X_val, Y_train, Y_val = train_test_split(X_train, Y_train, test_size = 0.3)\n",
    "    logreg = linear_model.LogisticRegression(C=1e5, solver=\"lbfgs\", multi_class=\"multinomial\")\n",
    "    logreg.fit(X_train, Y_train)\n",
    "    print logloss(Y_val, logreg.predict(X_val), logreg.predict_proba(X_val))\n",
    "else:\n",
    "    logreg = linear_model.LogisticRegression(C=1e5, solver=\"lbfgs\", multi_class=\"multinomial\")\n",
    "    logreg.fit(X_train, Y_train)\n",
    "    print logloss(Y_train, logreg.predict(X_train), logreg.predict_proba(X_train))    "
   ]
  },
  {
   "cell_type": "code",
   "execution_count": 74,
   "metadata": {
    "collapsed": false
   },
   "outputs": [],
   "source": [
    "X_test_raw = [[animal_map[x[0]], sexupon_map[x[1]], age_map.get(x[2], age_map[\"20 years\"]), \n",
    "                color_map[x[3].split('/')[0]], is_pure(x[4]), breed_map.get(get_breed(x[4]), 0) ]\n",
    "                for x in zip(test_sets.AnimalType, test_sets.SexuponOutcome, \n",
    "                             test_sets.AgeuponOutcome, test_sets.Color, test_sets.Breed)]\n",
    "\n",
    "predicted = np.array(logreg.predict_proba(enc.transform(X_test_raw)))\n",
    "labels = ['Id']\n",
    "for i in logreg.classes_:\n",
    "    labels.append(i)\n",
    "with gzip.open('./animal_lr.csv.gz', 'wt') as outf:\n",
    "    fo = csv.writer(outf, lineterminator='\\n')\n",
    "    fo.writerow(labels)\n",
    "\n",
    "    for i, pred in enumerate(predicted):\n",
    "        fo.writerow([i + 1] + list(pred))"
   ]
  },
  {
   "cell_type": "code",
   "execution_count": 57,
   "metadata": {
    "collapsed": false
   },
   "outputs": [
    {
     "data": {
      "text/plain": [
       "0.21220774829451083"
      ]
     },
     "execution_count": 57,
     "metadata": {},
     "output_type": "execute_result"
    }
   ],
   "source": [
    "from sklearn.ensemble import RandomForestClassifier\n",
    "\n",
    "X_train_s, X_val, Y_train_s, Y_val = train_test_split(X_train_raw, Y_train, test_size = 0.3)\n",
    "\n",
    "rf = RandomForestClassifier(n_estimators=50)\n",
    "rf.fit(X_train_s, Y_train_s)\n",
    "logloss(Y_val, rf.predict(X_val), rf.predict_proba(X_val))"
   ]
  },
  {
   "cell_type": "code",
   "execution_count": 59,
   "metadata": {
    "collapsed": false
   },
   "outputs": [
    {
     "data": {
      "text/plain": [
       "0.2581453286149607"
      ]
     },
     "execution_count": 59,
     "metadata": {},
     "output_type": "execute_result"
    }
   ],
   "source": [
    "from sklearn.ensemble import GradientBoostingClassifier\n",
    "\n",
    "X_train_s, X_val, Y_train_s, Y_val = train_test_split(X_train_raw, Y_train, test_size = 0.3)\n",
    "\n",
    "gbdt = GradientBoostingClassifier(n_estimators = 200)\n",
    "gbdt.fit(X_train_s, Y_train_s)\n",
    "logloss(Y_val, gbdt.predict(X_val), gbdt.predict_proba(X_val))"
   ]
  },
  {
   "cell_type": "code",
   "execution_count": 58,
   "metadata": {
    "collapsed": false
   },
   "outputs": [],
   "source": [
    "X_test_raw = [[animal_map[x[0]], sexupon_map[x[1]], age_map.get(x[2], age_map[\"20 years\"]), \n",
    "                color_map[x[3].split('/')[0]], is_pure(x[4]) ]\n",
    "                for x in zip(test_sets.AnimalType, test_sets.SexuponOutcome, \n",
    "                             test_sets.AgeuponOutcome, test_sets.Color, test_sets.Breed)]\n",
    "\n",
    "predicted = np.array(rf.predict_proba(X_test_raw))\n",
    "labels = ['Id']\n",
    "for i in rf.classes_:\n",
    "    labels.append(i)\n",
    "with gzip.open('./animal_rf.csv.gz', 'wt') as outf:\n",
    "    fo = csv.writer(outf, lineterminator='\\n')\n",
    "    fo.writerow(labels)\n",
    "\n",
    "    for i, pred in enumerate(predicted):\n",
    "        fo.writerow([i + 1] + list(pred))"
   ]
  }
 ],
 "metadata": {
  "kernelspec": {
   "display_name": "Python 2",
   "language": "python",
   "name": "python2"
  },
  "language_info": {
   "codemirror_mode": {
    "name": "ipython",
    "version": 2
   },
   "file_extension": ".py",
   "mimetype": "text/x-python",
   "name": "python",
   "nbconvert_exporter": "python",
   "pygments_lexer": "ipython2",
   "version": "2.7.10"
  }
 },
 "nbformat": 4,
 "nbformat_minor": 0
}
