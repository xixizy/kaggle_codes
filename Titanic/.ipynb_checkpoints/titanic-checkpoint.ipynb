{
 "cells": [
  {
   "cell_type": "code",
   "execution_count": 1,
   "metadata": {
    "collapsed": true
   },
   "outputs": [],
   "source": [
    "import pandas as pd\n",
    "import sklearn\n",
    "import matplotlib\n",
    "import matplotlib.pyplot as plt\n",
    "import numpy as np\n",
    "import math\n",
    "import gzip, csv\n",
    "\n",
    "matplotlib.style.use('ggplot')\n",
    "\n",
    "%matplotlib inline"
   ]
  },
  {
   "cell_type": "code",
   "execution_count": 2,
   "metadata": {
    "collapsed": false
   },
   "outputs": [
    {
     "data": {
      "text/html": [
       "<div>\n",
       "<table border=\"1\" class=\"dataframe\">\n",
       "  <thead>\n",
       "    <tr style=\"text-align: right;\">\n",
       "      <th></th>\n",
       "      <th>PassengerId</th>\n",
       "      <th>Survived</th>\n",
       "      <th>Pclass</th>\n",
       "      <th>Name</th>\n",
       "      <th>Sex</th>\n",
       "      <th>Age</th>\n",
       "      <th>SibSp</th>\n",
       "      <th>Parch</th>\n",
       "      <th>Ticket</th>\n",
       "      <th>Fare</th>\n",
       "      <th>Cabin</th>\n",
       "      <th>Embarked</th>\n",
       "    </tr>\n",
       "  </thead>\n",
       "  <tbody>\n",
       "    <tr>\n",
       "      <th>0</th>\n",
       "      <td>1</td>\n",
       "      <td>0</td>\n",
       "      <td>3</td>\n",
       "      <td>Braund, Mr. Owen Harris</td>\n",
       "      <td>male</td>\n",
       "      <td>22.0</td>\n",
       "      <td>1</td>\n",
       "      <td>0</td>\n",
       "      <td>A/5 21171</td>\n",
       "      <td>7.2500</td>\n",
       "      <td>NaN</td>\n",
       "      <td>S</td>\n",
       "    </tr>\n",
       "    <tr>\n",
       "      <th>1</th>\n",
       "      <td>2</td>\n",
       "      <td>1</td>\n",
       "      <td>1</td>\n",
       "      <td>Cumings, Mrs. John Bradley (Florence Briggs Th...</td>\n",
       "      <td>female</td>\n",
       "      <td>38.0</td>\n",
       "      <td>1</td>\n",
       "      <td>0</td>\n",
       "      <td>PC 17599</td>\n",
       "      <td>71.2833</td>\n",
       "      <td>C85</td>\n",
       "      <td>C</td>\n",
       "    </tr>\n",
       "  </tbody>\n",
       "</table>\n",
       "</div>"
      ],
      "text/plain": [
       "   PassengerId  Survived  Pclass  \\\n",
       "0            1         0       3   \n",
       "1            2         1       1   \n",
       "\n",
       "                                                Name     Sex   Age  SibSp  \\\n",
       "0                            Braund, Mr. Owen Harris    male  22.0      1   \n",
       "1  Cumings, Mrs. John Bradley (Florence Briggs Th...  female  38.0      1   \n",
       "\n",
       "   Parch     Ticket     Fare Cabin Embarked  \n",
       "0      0  A/5 21171   7.2500   NaN        S  \n",
       "1      0   PC 17599  71.2833   C85        C  "
      ]
     },
     "execution_count": 2,
     "metadata": {},
     "output_type": "execute_result"
    }
   ],
   "source": [
    "train_sets = pd.read_csv(\"./train.csv\")\n",
    "train_sets.head(2)"
   ]
  },
  {
   "cell_type": "code",
   "execution_count": 3,
   "metadata": {
    "collapsed": false
   },
   "outputs": [
    {
     "data": {
      "text/html": [
       "<div>\n",
       "<table border=\"1\" class=\"dataframe\">\n",
       "  <thead>\n",
       "    <tr style=\"text-align: right;\">\n",
       "      <th></th>\n",
       "      <th>PassengerId</th>\n",
       "      <th>Pclass</th>\n",
       "      <th>Name</th>\n",
       "      <th>Sex</th>\n",
       "      <th>Age</th>\n",
       "      <th>SibSp</th>\n",
       "      <th>Parch</th>\n",
       "      <th>Ticket</th>\n",
       "      <th>Fare</th>\n",
       "      <th>Cabin</th>\n",
       "      <th>Embarked</th>\n",
       "    </tr>\n",
       "  </thead>\n",
       "  <tbody>\n",
       "    <tr>\n",
       "      <th>0</th>\n",
       "      <td>892</td>\n",
       "      <td>3</td>\n",
       "      <td>Kelly, Mr. James</td>\n",
       "      <td>male</td>\n",
       "      <td>34.5</td>\n",
       "      <td>0</td>\n",
       "      <td>0</td>\n",
       "      <td>330911</td>\n",
       "      <td>7.8292</td>\n",
       "      <td>NaN</td>\n",
       "      <td>Q</td>\n",
       "    </tr>\n",
       "    <tr>\n",
       "      <th>1</th>\n",
       "      <td>893</td>\n",
       "      <td>3</td>\n",
       "      <td>Wilkes, Mrs. James (Ellen Needs)</td>\n",
       "      <td>female</td>\n",
       "      <td>47.0</td>\n",
       "      <td>1</td>\n",
       "      <td>0</td>\n",
       "      <td>363272</td>\n",
       "      <td>7.0000</td>\n",
       "      <td>NaN</td>\n",
       "      <td>S</td>\n",
       "    </tr>\n",
       "  </tbody>\n",
       "</table>\n",
       "</div>"
      ],
      "text/plain": [
       "   PassengerId  Pclass                              Name     Sex   Age  SibSp  \\\n",
       "0          892       3                  Kelly, Mr. James    male  34.5      0   \n",
       "1          893       3  Wilkes, Mrs. James (Ellen Needs)  female  47.0      1   \n",
       "\n",
       "   Parch  Ticket    Fare Cabin Embarked  \n",
       "0      0  330911  7.8292   NaN        Q  \n",
       "1      0  363272  7.0000   NaN        S  "
      ]
     },
     "execution_count": 3,
     "metadata": {},
     "output_type": "execute_result"
    }
   ],
   "source": [
    "test_sets = pd.read_csv(\"./test.csv\")\n",
    "test_sets.head(2)"
   ]
  },
  {
   "cell_type": "code",
   "execution_count": 48,
   "metadata": {
    "collapsed": false
   },
   "outputs": [
    {
     "data": {
      "text/plain": [
       "Parch\n",
       "0    324\n",
       "1     52\n",
       "2     33\n",
       "3      3\n",
       "4      2\n",
       "5      1\n",
       "6      1\n",
       "9      2\n",
       "dtype: int64"
      ]
     },
     "execution_count": 48,
     "metadata": {},
     "output_type": "execute_result"
    }
   ],
   "source": [
    "test_sets.groupby(\"Parch\").size()"
   ]
  },
  {
   "cell_type": "code",
   "execution_count": 74,
   "metadata": {
    "collapsed": true
   },
   "outputs": [],
   "source": [
    "def logloss(act, pred, score):\n",
    "    res = 0\n",
    "    sample_size = len(act)\n",
    "    for i in xrange(sample_size):\n",
    "        res += math.log(max(score[i])) if act[i] == pred[i] else 0\n",
    "    return - res / sample_size\n",
    "\n",
    "def accuracy(act, pred):\n",
    "    count = 0\n",
    "    size = len(act)\n",
    "    for i in xrange(size):\n",
    "        if act[i] == pred[i]:\n",
    "            count += 1\n",
    "    return 100.0 * count / size"
   ]
  },
  {
   "cell_type": "code",
   "execution_count": 75,
   "metadata": {
    "collapsed": false
   },
   "outputs": [
    {
     "name": "stdout",
     "output_type": "stream",
     "text": [
      "(891, 333)\n"
     ]
    }
   ],
   "source": [
    "from sklearn.preprocessing import OneHotEncoder\n",
    "\n",
    "Y_train = train_sets.Survived.values\n",
    "\n",
    "def get_id_map(data_sets, name):\n",
    "    ids = list(set(data_sets[name]))\n",
    "    return dict([ x for x in zip(ids, xrange(len(ids))) ])\n",
    "\n",
    "sex_map = get_id_map(train_sets, \"Sex\")\n",
    "cabin_map = get_id_map(train_sets, \"Cabin\")\n",
    "embark_map = get_id_map(train_sets, \"Embarked\")\n",
    "parch_map = get_id_map(train_sets, \"Parch\")\n",
    "\n",
    "X_train_raw = [ [x[0], sex_map[x[1]], int(x[2]) if False == math.isnan(x[2]) else 0, x[3], parch_map[x[4]], \n",
    "                 cabin_map[x[5]], embark_map[x[6]], int(x[7]) ] \n",
    "               for x in zip(train_sets.Pclass, train_sets.Sex, train_sets.Age, train_sets.SibSp,\n",
    "                            train_sets.Parch, train_sets.Cabin, train_sets.Embarked, train_sets.Fare) ]\n",
    "\n",
    "enc = OneHotEncoder()\n",
    "X_train = enc.fit_transform(X_train_raw)\n",
    "print X_train.shape"
   ]
  },
  {
   "cell_type": "code",
   "execution_count": 76,
   "metadata": {
    "collapsed": false
   },
   "outputs": [
    {
     "name": "stdout",
     "output_type": "stream",
     "text": [
      "71.2686567164\n"
     ]
    }
   ],
   "source": [
    "from sklearn import linear_model\n",
    "from sklearn.cross_validation import train_test_split\n",
    "\n",
    "if True:\n",
    "    X_train_s, X_val, Y_train_s, Y_val = train_test_split(X_train, Y_train, test_size = 0.3)\n",
    "    logreg = linear_model.LogisticRegression(C=1e5, solver=\"lbfgs\", multi_class=\"multinomial\")\n",
    "    logreg.fit(X_train_s, Y_train_s)\n",
    "    print accuracy(Y_val, logreg.predict(X_val))\n",
    "else:\n",
    "    logreg = linear_model.LogisticRegression(C=1e5, solver=\"lbfgs\", multi_class=\"multinomial\")\n",
    "    logreg.fit(X_train, Y_train)\n",
    "    print accuracy(Y_val, logreg.predict(X_val))   "
   ]
  },
  {
   "cell_type": "code",
   "execution_count": 73,
   "metadata": {
    "collapsed": false
   },
   "outputs": [],
   "source": [
    "X_test_raw = [ [x[0], sex_map[x[1]], int(x[2]) if False == math.isnan(x[2]) else 0, x[3], parch_map.get(x[4], 0), \n",
    "                 cabin_map.get(x[5], 0), embark_map[x[6]], int(x[7]) if False == math.isnan(x[7]) else 0] \n",
    "               for x in zip(test_sets.Pclass, test_sets.Sex, test_sets.Age, test_sets.SibSp,\n",
    "                            test_sets.Parch, test_sets.Cabin, test_sets.Embarked, test_sets.Fare) ]\n",
    "\n",
    "predicted = np.array(logreg.predict(enc.transform(X_test_raw)))\n",
    "labels = ['PassengerId', 'Survived']\n",
    "with gzip.open('./titanic_lr.csv.gz', 'wt') as outf:\n",
    "    fo = csv.writer(outf, lineterminator='\\n')\n",
    "    fo.writerow(labels)\n",
    "\n",
    "    for i, pred in enumerate(predicted):\n",
    "        fo.writerow([test_sets.PassengerId[i]] + [pred])"
   ]
  },
  {
   "cell_type": "code",
   "execution_count": 103,
   "metadata": {
    "collapsed": false
   },
   "outputs": [
    {
     "name": "stdout",
     "output_type": "stream",
     "text": [
      "80.5970149254\n"
     ]
    }
   ],
   "source": [
    "from sklearn.ensemble import RandomForestClassifier\n",
    "\n",
    "rf = RandomForestClassifier(n_estimators = 200)\n",
    "if True:\n",
    "    X_train_s, X_val, Y_train_s, Y_val = train_test_split(X_train_raw, Y_train, test_size = 0.3)\n",
    "    rf.fit(X_train_s, Y_train_s)\n",
    "    print accuracy(Y_val, rf.predict(X_val))\n",
    "else:\n",
    "    rf.fit(X_train_raw, Y_train)\n",
    "    print accuracy(Y_train, rf.predict(X_train_raw))"
   ]
  },
  {
   "cell_type": "code",
   "execution_count": 117,
   "metadata": {
    "collapsed": false
   },
   "outputs": [
    {
     "name": "stdout",
     "output_type": "stream",
     "text": [
      "92.7048260382\n"
     ]
    }
   ],
   "source": [
    "from sklearn.ensemble import GradientBoostingClassifier\n",
    "\n",
    "gbdt = GradientBoostingClassifier(n_estimators = 200)\n",
    "if False:\n",
    "    X_train_s, X_val, Y_train_s, Y_val = train_test_split(X_train_raw, Y_train, test_size = 0.3)\n",
    "    gbdt.fit(X_train_s, Y_train_s)\n",
    "    print accuracy(Y_val, gbdt.predict(X_val))\n",
    "else:\n",
    "    gbdt.fit(X_train_raw, Y_train)\n",
    "    print accuracy(Y_train, gbdt.predict(X_train_raw))"
   ]
  },
  {
   "cell_type": "code",
   "execution_count": 118,
   "metadata": {
    "collapsed": true
   },
   "outputs": [],
   "source": [
    "X_test_raw = [ [x[0], sex_map[x[1]], int(x[2]) if False == math.isnan(x[2]) else 0, x[3], parch_map.get(x[4], 0), \n",
    "                 cabin_map.get(x[5], 0), embark_map[x[6]], int(x[7]) if False == math.isnan(x[7]) else 0] \n",
    "               for x in zip(test_sets.Pclass, test_sets.Sex, test_sets.Age, test_sets.SibSp,\n",
    "                            test_sets.Parch, test_sets.Cabin, test_sets.Embarked, test_sets.Fare) ]\n",
    "\n",
    "predicted = np.array(gbdt.predict(X_test_raw))\n",
    "labels = ['PassengerId', 'Survived']\n",
    "with gzip.open('./titanic_gbdt.csv.gz', 'wt') as outf:\n",
    "    fo = csv.writer(outf, lineterminator='\\n')\n",
    "    fo.writerow(labels)\n",
    "\n",
    "    for i, pred in enumerate(predicted):\n",
    "        fo.writerow([test_sets.PassengerId[i]] + [pred])"
   ]
  }
 ],
 "metadata": {
  "kernelspec": {
   "display_name": "Python 2",
   "language": "python",
   "name": "python2"
  },
  "language_info": {
   "codemirror_mode": {
    "name": "ipython",
    "version": 2
   },
   "file_extension": ".py",
   "mimetype": "text/x-python",
   "name": "python",
   "nbconvert_exporter": "python",
   "pygments_lexer": "ipython2",
   "version": "2.7.10"
  }
 },
 "nbformat": 4,
 "nbformat_minor": 0
}
